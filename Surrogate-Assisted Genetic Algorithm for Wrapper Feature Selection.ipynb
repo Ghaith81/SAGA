{
 "cells": [
  {
   "cell_type": "code",
   "execution_count": 5,
   "metadata": {},
   "outputs": [],
   "source": [
    "from UCIDataset import UCIDataset\n",
    "from EvolutionaryWrapperFeatureSelection import EvolutionaryWrapperFeatureSelection\n",
    "from SurrogateAssistedWrapperFeatureSelection import SurrogateAssistedWrapperFeatureSelection"
   ]
  },
  {
   "cell_type": "code",
   "execution_count": 6,
   "metadata": {},
   "outputs": [],
   "source": [
    "from sklearn.tree import DecisionTreeClassifier\n",
    "\n",
    "work_dir = 'C:/Users/mohalt/Desktop/Halmstad/EVE/GA/UCI Datasets/Shuffled/'\n",
    "\n",
    "header=None\n",
    "\n",
    "datasets = [('german.data-numeric', ',', -1), \n",
    "           ('abalone.data', ',', -1),\n",
    "           ('dermatology.data', ',', -1),\n",
    "           ('car.data', ',', -1),\n",
    "           ('bank-full.csv', ',', -1),\n",
    "           ('semeion.data', ',', -1),\n",
    "           ('connect-4.data', ',', -1),\n",
    "           ('adult.data', ',', -1),\n",
    "           ('census-income.data', ',', -1),\n",
    "           ('dota2Train.csv', ',', 0),\n",
    "           ('qsar_oral_toxicity.csv', ',', -1),\n",
    "           ('diabetic_data.csv', ',', -1),\n",
    "           ('covtype.data', ',', -1),\n",
    "           ('kddcup.data.gz', ',', -1),\n",
    "           ('Aligned.csv', ',', -1),\n",
    "           ('Epileptic.csv', ',', -1),\n",
    "           ('YearPredictionMSD.txt', ',', 0)]\n",
    "\n",
    "file_name, sep, label = datasets[5]\n",
    "\n",
    "\n",
    "\n",
    "dataset = UCIDataset(work_dir+file_name, sep, label, divide_dataset=False, header=header)\n",
    "classifier = DecisionTreeClassifier(random_state=0)\n",
    "\n",
    "dataset.divideDataset(classifier,\n",
    "                      normalize=True, \n",
    "                      shuffle=False, \n",
    "                      all_features=True, \n",
    "                      all_instances=True, \n",
    "                      evaluate=True, \n",
    "                      partial_sample=False)\n"
   ]
  },
  {
   "cell_type": "code",
   "execution_count": 7,
   "metadata": {},
   "outputs": [
    {
     "name": "stdout",
     "output_type": "stream",
     "text": [
      "Best Individual = % 72.15 , Gen =  1047   -170.47 , Gen =  107  -106.81 , Gen =  163 207 235  281 , Gen =  427  495  23.3 , Gen =  532   , Gen =  710 754   1019 \r"
     ]
    }
   ],
   "source": [
    "log, population = EvolutionaryWrapperFeatureSelection.CHC(dataset, \n",
    "                                                          populationSize=40, \n",
    "                                                          d=False, \n",
    "                                                          divergence=0.35, \n",
    "                                                          timeout=10)\n"
   ]
  },
  {
   "cell_type": "code",
   "execution_count": 12,
   "metadata": {},
   "outputs": [
    {
     "name": "stdout",
     "output_type": "stream",
     "text": [
      "Best Individual = % -345.89 , Gen =  25 \r"
     ]
    }
   ],
   "source": [
    "log, population = EvolutionaryWrapperFeatureSelection.GA(dataset, \n",
    "                                                          populationSize=40, \n",
    "                                                          crossOverP=0.8, \n",
    "                                                          mutationP=0.2, \n",
    "                                                          timeout=10)\n"
   ]
  },
  {
   "cell_type": "code",
   "execution_count": 7,
   "metadata": {},
   "outputs": [
    {
     "name": "stdout",
     "output_type": "stream",
     "text": [
      "Best Individual = % -80.52 , Gen =  26  -440.41 , Gen =  4  -295.79 , Gen =  7  -293.3 , Gen =  9  -289.71 , Gen =  5  -165.99 , Gen =  5  -129.17 , Gen =  11 \r"
     ]
    }
   ],
   "source": [
    "log, population = SurrogateAssistedWrapperFeatureSelection.SAGA(dataset, \n",
    "                                                    populationSize=40, \n",
    "                                                    a=16, \n",
    "                                                    reductionRate=0.5, \n",
    "                                                    step=10, \n",
    "                                                    verbose=0,\n",
    "                                                    evaluation='validation',\n",
    "                                                    timeout=10)\n",
    "\n"
   ]
  },
  {
   "cell_type": "code",
   "execution_count": null,
   "metadata": {},
   "outputs": [],
   "source": []
  },
  {
   "cell_type": "code",
   "execution_count": null,
   "metadata": {},
   "outputs": [],
   "source": []
  }
 ],
 "metadata": {
  "kernelspec": {
   "display_name": "Python 3",
   "language": "python",
   "name": "python3"
  },
  "language_info": {
   "codemirror_mode": {
    "name": "ipython",
    "version": 3
   },
   "file_extension": ".py",
   "mimetype": "text/x-python",
   "name": "python",
   "nbconvert_exporter": "python",
   "pygments_lexer": "ipython3",
   "version": "3.7.3"
  }
 },
 "nbformat": 4,
 "nbformat_minor": 4
}
