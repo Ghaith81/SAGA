{
 "cells": [
  {
   "cell_type": "code",
   "execution_count": 1,
   "metadata": {},
   "outputs": [],
   "source": [
    "from UCIDataset import UCIDataset\n",
    "from EvolutionaryWrapperFeatureSelection import EvolutionaryWrapperFeatureSelection\n",
    "from SurrogateAssistedWrapperFeatureSelection import SurrogateAssistedWrapperFeatureSelection\n",
    "from sklearn.datasets import make_classification\n",
    "import pandas as pd\n",
    "from sklearn.neighbors import KNeighborsClassifier\n",
    "from sklearn.tree import DecisionTreeClassifier\n",
    "from sklearn.ensemble import RandomForestClassifier\n",
    "from sklearn.linear_model import LogisticRegression\n",
    "from sklearn.svm import SVC\n",
    "from sklearn.neural_network import MLPClassifier\n",
    "import numpy as np\n",
    "import seaborn as sns\n",
    "import matplotlib.pyplot as plt"
   ]
  },
  {
   "cell_type": "markdown",
   "metadata": {},
   "source": [
    "# Synthetic Data\n",
    "Feature selection is done for synthetic data of which the informative features are known. In the below example a binary classification dataset of 1000 instances are created of which only the first two features (indexes [0,1]) are informative and the rest are random noise. Three wrapper feature selection methods are used to identify the infromative features using a Decision Tree classifier:\n",
    "<ul>\n",
    "<li>SAGA</li>\n",
    "<li>CHC</li>\n",
    "<li>GA</li>\n",
    "</ul>"
   ]
  },
  {
   "cell_type": "code",
   "execution_count": 2,
   "metadata": {},
   "outputs": [],
   "source": [
    "def createDataset(n_samples, n_features, n_classes, n_informative, classifier):\n",
    "    X, y = make_classification(n_samples=n_samples, n_features=n_features, n_classes=n_classes,\n",
    "                               n_informative=n_informative, n_redundant=0, n_repeated=0,\n",
    "                               random_state=1, shuffle=False)\n",
    "\n",
    "    df = pd.DataFrame(X)\n",
    "    df['labels'] = pd.Series(y)\n",
    "    label = -1\n",
    "    header = None\n",
    "\n",
    "    dataset = UCIDataset(df, 'df', label, divide_dataset=False, header=header)\n",
    "    dataset.divideDataset(classifier,\n",
    "                          normalize=True, \n",
    "                          shuffle=True, \n",
    "                          all_features=True, \n",
    "                          all_instances=True, \n",
    "                          evaluate=True, \n",
    "                          partial_sample=False)\n",
    "\n",
    "    print('Number of classes:', n_classes)\n",
    "    print('Number of instances:', n_samples)\n",
    "    print('Number of features:', n_features)\n",
    "    print('Informative features:', list(range(0, n_informative)))\n",
    "    accuracy = np.round(100* dataset.getTestAccuracy(), 2)\n",
    "    print('Test accuracy before feature selection: %', accuracy)\n",
    "\n",
    "\n",
    "\n",
    "    \n",
    "    return dataset"
   ]
  },
  {
   "cell_type": "code",
   "execution_count": 26,
   "metadata": {},
   "outputs": [
    {
     "name": "stdout",
     "output_type": "stream",
     "text": [
      "Number of classes: 2\n",
      "Number of instances: 1000\n",
      "Number of features: 160\n",
      "Informative features: [0, 1]\n",
      "Test accuracy before feature selection: % 75.5\n"
     ]
    }
   ],
   "source": [
    "dataset = createDataset(1000, 160, 2, 2, DecisionTreeClassifier(random_state=0))\n",
    "alpha = 0.88\n",
    "verbose = 0\n",
    "evaluation = 'validation'"
   ]
  },
  {
   "cell_type": "markdown",
   "metadata": {},
   "source": [
    "# SAGA"
   ]
  },
  {
   "cell_type": "code",
   "execution_count": 27,
   "metadata": {},
   "outputs": [
    {
     "name": "stdout",
     "output_type": "stream",
     "text": [
      "Test accuracy: % 80.5\n",
      "Computation time:  8.99 sec\n",
      "Selected features indexes:  [0 1]\n"
     ]
    }
   ],
   "source": [
    "log, population = SurrogateAssistedWrapperFeatureSelection.SAGA(dataset, \n",
    "                                                                populationSize=40, \n",
    "                                                                a=16, \n",
    "                                                                reductionRate=0.5, \n",
    "                                                                step=10, \n",
    "                                                                alpha=alpha,\n",
    "                                                                verbose=verbose,\n",
    "                                                                evaluation=evaluation,\n",
    "                                                                noChange=100,\n",
    "                                                                timeout=np.inf)\n",
    "\n",
    "feature_subset = log.iloc[-1]['best_solution']  \n",
    "feature_subset = np.array(feature_subset)\n",
    "\n",
    "elapsed_time = np.round(log.iloc[-1]['time'], 2)\n",
    "accuracy = np.round(100*EvolutionaryWrapperFeatureSelection.evaluate(feature_subset, 'feature_selection', 'test', dataset, 1)[0], 2)\n",
    "\n",
    "print('Test accuracy: %', accuracy)\n",
    "print('Computation time: ', elapsed_time, 'sec')\n",
    "print('Selected features indexes: ', np.where(feature_subset == 1)[0])"
   ]
  },
  {
   "cell_type": "markdown",
   "metadata": {},
   "source": [
    "# CHC"
   ]
  },
  {
   "cell_type": "code",
   "execution_count": 28,
   "metadata": {},
   "outputs": [
    {
     "name": "stdout",
     "output_type": "stream",
     "text": [
      "Test accuracy: % 78.5\n",
      "Computation time:  11.04 sec\n",
      "Selected features indexes:  [ 0  1 12]\n"
     ]
    }
   ],
   "source": [
    "log, population = EvolutionaryWrapperFeatureSelection.CHC(dataset, \n",
    "                                                          populationSize=40, \n",
    "                                                          d=False, \n",
    "                                                          divergence=0.35, \n",
    "                                                          alpha=alpha,\n",
    "                                                          evaluation=evaluation,\n",
    "                                                          maxNochange=100,\n",
    "                                                          verbose=verbose,\n",
    "                                                          timeout=np.inf)\n",
    "\n",
    "feature_subset = log.iloc[-1]['best_solution']  \n",
    "feature_subset = np.array(feature_subset)\n",
    "\n",
    "elapsed_time = np.round(log.iloc[-1]['time'], 2)\n",
    "accuracy = np.round(100*EvolutionaryWrapperFeatureSelection.evaluate(feature_subset, 'feature_selection', 'test', dataset, 1)[0], 2)\n",
    "\n",
    "print('Test accuracy: %', accuracy)\n",
    "print('Computation time: ', elapsed_time, 'sec')\n",
    "print('Selected features indexes: ', np.where(feature_subset == 1)[0])"
   ]
  },
  {
   "cell_type": "markdown",
   "metadata": {},
   "source": [
    "# GA"
   ]
  },
  {
   "cell_type": "code",
   "execution_count": 29,
   "metadata": {},
   "outputs": [
    {
     "name": "stdout",
     "output_type": "stream",
     "text": [
      "Test accuracy: % 81.0\n",
      "Computation time:  28.88 sec\n",
      "Selected features indexes:  [ 0  1  2 18]\n"
     ]
    }
   ],
   "source": [
    "log, population = EvolutionaryWrapperFeatureSelection.GA(dataset, \n",
    "                                                         populationSize=40, \n",
    "                                                         crossOverP=0.9, \n",
    "                                                         mutationP=0.1,\n",
    "                                                         alpha=alpha,\n",
    "                                                         evaluation=evaluation,\n",
    "                                                         maxNochange=100,\n",
    "                                                         verbose=verbose,\n",
    "                                                         timeout=np.inf)\n",
    "feature_subset = log.iloc[-1]['best_solution']  \n",
    "feature_subset = np.array(feature_subset)\n",
    "\n",
    "elapsed_time = np.round(log.iloc[-1]['time'], 2)\n",
    "accuracy = np.round(100*EvolutionaryWrapperFeatureSelection.evaluate(feature_subset, 'feature_selection', 'test', dataset, 1)[0], 2)\n",
    "\n",
    "print('Test accuracy: %', accuracy)\n",
    "print('Computation time: ', elapsed_time, 'sec')\n",
    "print('Selected features indexes: ', np.where(feature_subset == 1)[0])"
   ]
  },
  {
   "cell_type": "code",
   "execution_count": null,
   "metadata": {},
   "outputs": [],
   "source": []
  },
  {
   "cell_type": "code",
   "execution_count": 150,
   "metadata": {},
   "outputs": [],
   "source": []
  },
  {
   "cell_type": "code",
   "execution_count": null,
   "metadata": {
    "scrolled": false
   },
   "outputs": [],
   "source": []
  },
  {
   "cell_type": "code",
   "execution_count": 68,
   "metadata": {},
   "outputs": [],
   "source": []
  },
  {
   "cell_type": "code",
   "execution_count": null,
   "metadata": {
    "scrolled": false
   },
   "outputs": [],
   "source": []
  },
  {
   "cell_type": "code",
   "execution_count": null,
   "metadata": {},
   "outputs": [],
   "source": []
  },
  {
   "cell_type": "code",
   "execution_count": null,
   "metadata": {},
   "outputs": [],
   "source": []
  },
  {
   "cell_type": "code",
   "execution_count": null,
   "metadata": {},
   "outputs": [],
   "source": []
  }
 ],
 "metadata": {
  "kernelspec": {
   "display_name": "Python 3",
   "language": "python",
   "name": "python3"
  },
  "language_info": {
   "codemirror_mode": {
    "name": "ipython",
    "version": 3
   },
   "file_extension": ".py",
   "mimetype": "text/x-python",
   "name": "python",
   "nbconvert_exporter": "python",
   "pygments_lexer": "ipython3",
   "version": "3.7.3"
  }
 },
 "nbformat": 4,
 "nbformat_minor": 4
}
