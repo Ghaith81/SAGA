{
 "cells": [
  {
   "cell_type": "code",
   "execution_count": 1,
   "metadata": {},
   "outputs": [],
   "source": [
    "from UCIDataset import UCIDataset\n",
    "from EvolutionaryWrapperFeatureSelection import EvolutionaryWrapperFeatureSelection\n",
    "from SurrogateAssistedWrapperFeatureSelection import SurrogateAssistedWrapperFeatureSelection\n",
    "from sklearn.datasets import make_classification\n",
    "import pandas as pd\n",
    "from sklearn.neighbors import KNeighborsClassifier\n",
    "from sklearn.tree import DecisionTreeClassifier\n",
    "from sklearn.ensemble import RandomForestClassifier\n",
    "from sklearn.linear_model import LogisticRegression\n",
    "from sklearn.svm import SVC\n",
    "from sklearn.neural_network import MLPClassifier\n",
    "import numpy as np\n",
    "import seaborn as sns\n",
    "import matplotlib.pyplot as plt"
   ]
  },
  {
   "cell_type": "markdown",
   "metadata": {},
   "source": [
    "# Synthetic Data\n",
    "Feature selection is done for synthetic data of which the informative features are known. In the below example a binary classification dataset of 1000 instances are created of which only the first two features (indexes [0,1]) are informative and the rest are random noise. Three wrapper feature selection methods are used to identify the infromative features using a Decision Tree classifier:\n",
    "<ul>\n",
    "<li>SAGA</li>\n",
    "<li>CHC</li>\n",
    "<li>GA</li>\n",
    "</ul>"
   ]
  },
  {
   "cell_type": "code",
   "execution_count": 2,
   "metadata": {},
   "outputs": [],
   "source": [
    "def createDataset(n_samples, n_features, n_classes, n_informative, classifier):\n",
    "    X, y = make_classification(n_samples=n_samples, n_features=n_features, n_classes=n_classes,\n",
    "                               n_informative=n_informative, n_redundant=0, n_repeated=0,\n",
    "                               random_state=1, shuffle=False)\n",
    "\n",
    "    df = pd.DataFrame(X)\n",
    "    df['labels'] = pd.Series(y)\n",
    "    label = -1\n",
    "    header = None\n",
    "\n",
    "    dataset = UCIDataset(df, 'df', label, divide_dataset=False, header=header)\n",
    "    dataset.divideDataset(classifier,\n",
    "                          normalize=True, \n",
    "                          shuffle=True, \n",
    "                          all_features=True, \n",
    "                          all_instances=True, \n",
    "                          evaluate=True, \n",
    "                          partial_sample=False,\n",
    "                          folds=10)\n",
    "\n",
    "    print('Number of classes:', n_classes)\n",
    "    print('Number of instances:', n_samples)\n",
    "    print('Number of features:', n_features)\n",
    "    print('Informative features:', list(range(0, n_informative)))\n",
    "    accuracy = np.round(100* dataset.getTestAccuracy(), 2)\n",
    "    print('Test accuracy before feature selection: %', accuracy)\n",
    "\n",
    "\n",
    "\n",
    "    \n",
    "    return dataset"
   ]
  },
  {
   "cell_type": "code",
   "execution_count": 3,
   "metadata": {},
   "outputs": [
    {
     "name": "stdout",
     "output_type": "stream",
     "text": [
      "Number of classes: 2\n",
      "Number of instances: 1000\n",
      "Number of features: 100\n",
      "Informative features: [0, 1]\n",
      "Test accuracy before feature selection: % 81.0\n"
     ]
    }
   ],
   "source": [
    "dataset = createDataset(1000, 100, 2, 2, DecisionTreeClassifier(random_state=0))\n",
    "alpha = 0.88\n",
    "verbose = 1\n",
    "evaluation = 'validation'"
   ]
  },
  {
   "cell_type": "markdown",
   "metadata": {},
   "source": [
    "# SAGA"
   ]
  },
  {
   "cell_type": "code",
   "execution_count": 4,
   "metadata": {},
   "outputs": [
    {
     "name": "stdout",
     "output_type": "stream",
     "text": [
      "Current Approx Sample Size: 37\n",
      "Current Population Size: 4\n",
      "[10, 0.04687619209289551, -156.32, 'NA', 1, [1, 1, 0, 1, 0, 0, 1, 0, 0, 1, 1, 0, 0, 1, 0, 0, 1, 0, 0, 1, 1, 1, 0, 1, 0, 1, 0, 1, 0, 0, 1, 1, 0, 0, 1, 1, 0, 0, 1, 0, 0, 0, 0, 0, 0, 1, 0, 0, 0, 0, 1, 1, 0, 1, 0, 0, 1, 1, 0, 0, 0, 1, 1, 1, 0, 0, 0, 0, 0, 0, 1, 1, 0, 0, 0, 0, 1, 0, 1, 0, 1, 1, 0, 0, 1, 1, 0, 0, 0, 0, 1, 0, 1, 0, 0, 0, 1, 0, 1, 0], -153.68, 49, 0]\n",
      "The best individual is saved -153.68\n",
      "Number of features in selected individual:  40\n",
      "[20, 0.07776236534118652, -139.76, 'NA', 2, [0, 1, 0, 0, 0, 0, 1, 0, 0, 1, 0, 1, 0, 1, 0, 0, 1, 0, 0, 0, 0, 1, 0, 0, 0, 1, 0, 1, 1, 0, 0, 0, 0, 0, 0, 0, 0, 1, 1, 0, 0, 0, 0, 0, 1, 1, 0, 0, 0, 1, 1, 1, 0, 0, 0, 0, 0, 1, 0, 0, 0, 0, 1, 1, 0, 0, 0, 1, 0, 0, 0, 1, 0, 1, 0, 0, 1, 1, 1, 0, 0, 1, 0, 0, 1, 1, 0, 0, 0, 0, 1, 0, 1, 0, 0, 0, 1, 0, 0, 1], -140.64, 46, 0]\n",
      "The best individual is saved -140.64\n",
      "Number of features in selected individual:  33\n",
      "The approximation converged!Gen =  10 \n",
      "Current Approx Sample Size: 75\n",
      "Current Population Size: 4\n",
      "[40, 0.154557466506958, -93.04, 'NA', 3, [0, 1, 0, 1, 1, 1, 1, 0, 0, 0, 1, 0, 0, 0, 1, 0, 1, 0, 0, 1, 0, 1, 0, 0, 1, 0, 0, 0, 1, 1, 0, 1, 0, 1, 0, 0, 0, 1, 1, 0, 0, 0, 1, 1, 0, 0, 1, 0, 0, 0, 0, 1, 0, 0, 0, 0, 0, 0, 0, 0, 1, 0, 0, 0, 1, 0, 0, 1, 0, 1, 0, 0, 0, 0, 1, 0, 1, 1, 0, 1, 0, 0, 0, 1, 0, 0, 0, 0, 0, 0, 0, 0, 0, 0, 1, 0, 1, 0, 0, 0], -93.48, 24, 1]\n",
      "The best individual is saved -93.48\n",
      "Number of features in selected individual:  32\n",
      "[50, 0.1954514980316162, -87.2, 'NA', 4, [0, 1, 0, 1, 1, 1, 0, 1, 0, 0, 1, 0, 0, 0, 1, 0, 1, 0, 0, 1, 0, 0, 0, 0, 1, 0, 0, 0, 1, 1, 0, 1, 0, 1, 0, 0, 0, 1, 1, 0, 0, 0, 1, 1, 0, 0, 0, 0, 0, 0, 0, 1, 0, 0, 0, 0, 0, 0, 0, 0, 0, 0, 0, 0, 1, 0, 0, 1, 0, 0, 0, 0, 0, 0, 1, 0, 1, 1, 1, 1, 0, 1, 0, 1, 0, 1, 0, 0, 0, 0, 0, 0, 0, 0, 0, 0, 1, 0, 0, 0], -92.48, 17, 1]\n",
      "The best individual is saved -92.48\n",
      "Number of features in selected individual:  30\n",
      "[60, 0.23633885383605957, -77.12, 'NA', 5, [0, 1, 0, 1, 1, 1, 0, 0, 0, 1, 1, 0, 0, 0, 1, 0, 1, 0, 0, 1, 0, 1, 0, 0, 1, 0, 0, 0, 1, 1, 0, 1, 0, 1, 0, 0, 0, 1, 1, 0, 0, 0, 1, 1, 0, 0, 1, 0, 0, 0, 0, 1, 0, 0, 0, 0, 0, 0, 0, 0, 0, 0, 0, 0, 1, 0, 0, 1, 0, 1, 0, 0, 0, 0, 0, 0, 1, 1, 1, 0, 0, 0, 0, 1, 0, 0, 1, 0, 0, 0, 0, 0, 0, 0, 0, 0, 1, 0, 0, 0], -76.68, 13, 1]\n",
      "The best individual is saved -76.68\n",
      "Number of features in selected individual:  30\n",
      "[70, 0.26928138732910156, -75.08, 'NA', 6, [0, 1, 0, 1, 1, 1, 0, 0, 0, 1, 1, 0, 0, 0, 1, 0, 1, 0, 0, 1, 0, 0, 0, 0, 0, 0, 0, 0, 1, 1, 0, 1, 0, 1, 0, 0, 0, 1, 1, 0, 0, 0, 0, 1, 0, 0, 1, 0, 0, 0, 0, 1, 0, 0, 0, 0, 0, 0, 0, 0, 1, 0, 0, 0, 1, 0, 0, 1, 0, 1, 0, 0, 0, 0, 0, 0, 1, 1, 1, 0, 0, 0, 0, 1, 0, 1, 0, 0, 0, 0, 0, 0, 0, 0, 0, 0, 1, 0, 0, 0], -71.56, 11, 1]\n",
      "The best individual is saved -71.56\n",
      "Number of features in selected individual:  28\n",
      "[80, 0.30518388748168945, -69.72, 'NA', 7, [0, 1, 0, 1, 1, 1, 0, 0, 0, 1, 1, 0, 0, 0, 1, 0, 1, 0, 0, 1, 0, 0, 0, 0, 1, 0, 0, 0, 1, 1, 0, 1, 0, 1, 0, 0, 0, 1, 1, 0, 0, 0, 1, 1, 0, 0, 1, 0, 0, 0, 0, 1, 0, 0, 0, 0, 0, 0, 0, 0, 1, 0, 0, 0, 1, 0, 0, 1, 0, 1, 0, 0, 0, 0, 0, 0, 1, 1, 1, 0, 0, 0, 0, 1, 0, 0, 0, 0, 0, 0, 0, 0, 0, 0, 0, 0, 1, 0, 0, 0], -69.28, 3, 1]\n",
      "The best individual is saved -69.28\n",
      "Number of features in selected individual:  29\n",
      "[90, 0.3470733165740967, -61.8, 'NA', 8, [0, 1, 0, 1, 1, 1, 0, 0, 0, 1, 1, 0, 0, 0, 1, 0, 1, 0, 0, 1, 0, 0, 0, 0, 0, 0, 0, 0, 1, 1, 0, 1, 0, 1, 0, 0, 0, 1, 1, 0, 0, 0, 0, 1, 0, 0, 1, 0, 0, 0, 0, 1, 0, 0, 0, 0, 0, 0, 0, 0, 1, 0, 0, 0, 1, 0, 0, 1, 0, 1, 0, 0, 0, 0, 0, 0, 1, 1, 1, 0, 0, 0, 0, 1, 0, 0, 0, 0, 0, 0, 0, 0, 0, 0, 0, 0, 1, 0, 0, 0], -61.8, 2, 1]\n",
      "The best individual is saved -61.8\n",
      "Number of features in selected individual:  27\n",
      "[100, 0.43184709548950195, -41.36, 'NA', 9, [0, 1, 0, 1, 1, 1, 0, 0, 0, 1, 1, 0, 0, 0, 1, 0, 1, 1, 0, 1, 0, 0, 0, 0, 0, 0, 0, 0, 1, 0, 0, 0, 0, 1, 0, 0, 0, 1, 1, 0, 0, 0, 0, 1, 0, 0, 1, 0, 0, 0, 0, 1, 0, 0, 0, 0, 0, 0, 0, 0, 1, 0, 0, 0, 0, 0, 0, 0, 0, 1, 0, 0, 0, 0, 0, 0, 1, 1, 1, 0, 0, 0, 0, 1, 0, 0, 0, 0, 0, 0, 0, 0, 0, 0, 0, 0, 1, 0, 0, 0], -44.44, 2, 1]\n",
      "The best individual is saved -44.44\n",
      "Number of features in selected individual:  24\n",
      "[110, 0.47370457649230957, -36.68, 'NA', 10, [1, 1, 0, 1, 1, 1, 0, 0, 0, 1, 1, 0, 0, 0, 1, 0, 1, 0, 0, 1, 0, 0, 0, 0, 0, 0, 0, 0, 1, 0, 0, 0, 0, 1, 0, 0, 0, 1, 1, 0, 0, 0, 0, 1, 0, 0, 1, 0, 0, 0, 0, 1, 0, 0, 0, 0, 0, 0, 0, 0, 1, 0, 0, 0, 0, 0, 0, 0, 0, 1, 0, 0, 0, 0, 0, 0, 1, 1, 1, 0, 0, 0, 0, 1, 0, 0, 0, 0, 0, 0, 0, 0, 0, 0, 0, 0, 1, 0, 0, 0], -38.0, 1, 1]\n",
      "The best individual is saved -38.0\n",
      "Number of features in selected individual:  24\n",
      "The approximation converged!en =  10 \n",
      "Current Approx Sample Size: 150\n",
      "Current Population Size: 4\n",
      "[130, 0.5754306316375732, -18.4, 'NA', 11, [1, 1, 0, 0, 1, 0, 0, 0, 0, 0, 1, 0, 0, 0, 1, 0, 1, 1, 0, 0, 0, 0, 0, 0, 0, 0, 0, 0, 1, 0, 0, 0, 0, 1, 0, 0, 0, 1, 1, 0, 0, 0, 0, 0, 0, 0, 1, 0, 0, 0, 0, 1, 1, 1, 0, 0, 0, 0, 0, 0, 1, 0, 0, 0, 0, 0, 0, 0, 0, 1, 0, 0, 0, 0, 0, 0, 1, 0, 0, 0, 1, 0, 0, 0, 0, 0, 0, 0, 0, 0, 0, 0, 0, 0, 0, 0, 0, 0, 0, 0], -14.0, 25, 2]\n",
      "The best individual is saved -14.0\n",
      "Number of features in selected individual:  19\n",
      "The approximation converged!en =  10 \n",
      "Current Approx Sample Size: 300\n",
      "Current Population Size: 4\n",
      "[150, 0.6612324714660645, 1.68, 'NA', 12, [1, 1, 0, 1, 1, 0, 0, 0, 0, 0, 0, 0, 0, 0, 0, 0, 1, 1, 0, 0, 0, 0, 0, 0, 1, 0, 0, 0, 0, 0, 0, 0, 0, 1, 0, 0, 0, 0, 1, 1, 0, 0, 0, 0, 0, 0, 0, 0, 0, 1, 0, 1, 1, 0, 0, 0, 0, 0, 0, 0, 1, 0, 0, 0, 0, 0, 0, 0, 0, 1, 0, 0, 0, 0, 0, 0, 0, 0, 0, 0, 1, 0, 0, 0, 0, 0, 0, 0, 0, 0, 0, 0, 0, 0, 0, 0, 0, 0, 0, 0], 3.44, 20, 3]\n",
      "The best individual is saved 3.44\n",
      "Number of features in selected individual:  16\n",
      "The approximation converged! =  10 \n",
      "Approximation stage is over!\n",
      "Current Approx Sample Size: 600\n",
      "Current Population Size: 40\n",
      "Test accuracy: % 88.5.0 , Gen =  426 , Gen =  262 \n",
      "Computation time:  3.77 sec\n",
      "Selected features indexes:  [ 0  1  3  5  7 16 24 60]\n"
     ]
    }
   ],
   "source": [
    "log, population = SurrogateAssistedWrapperFeatureSelection.SAGA(dataset, \n",
    "                                                                populationSize=4, \n",
    "                                                                a=16, \n",
    "                                                                reductionRate=1, \n",
    "                                                                step=10, \n",
    "                                                                alpha=alpha,\n",
    "                                                                verbose=verbose,\n",
    "                                                                evaluation=evaluation,\n",
    "                                                                noChange=100,\n",
    "                                                                timeout=np.inf)\n",
    "\n",
    "feature_subset = log.iloc[-1]['best_solution']  \n",
    "feature_subset = np.array(feature_subset)\n",
    "\n",
    "elapsed_time = np.round(log.iloc[-1]['time'], 2)\n",
    "accuracy = np.round(100*EvolutionaryWrapperFeatureSelection.evaluate(feature_subset, 'feature_selection', 'test', dataset, 1)[0], 2)\n",
    "\n",
    "print('Test accuracy: %', accuracy)\n",
    "print('Computation time: ', elapsed_time, 'sec')\n",
    "print('Selected features indexes: ', np.where(feature_subset == 1)[0])"
   ]
  },
  {
   "cell_type": "markdown",
   "metadata": {},
   "source": [
    "# CHC"
   ]
  },
  {
   "cell_type": "code",
   "execution_count": 4,
   "metadata": {},
   "outputs": [
    {
     "name": "stdout",
     "output_type": "stream",
     "text": [
      "Test accuracy: % 77.5.0 , Gen =  384 , Gen =  199   71.0 , Gen =  350 \n",
      "Computation time:  36.75 sec\n",
      "Selected features indexes:  [1 2 3 7 9]\n"
     ]
    }
   ],
   "source": [
    "log, population = EvolutionaryWrapperFeatureSelection.CHC(dataset, \n",
    "                                                          populationSize=40, \n",
    "                                                          d=False, \n",
    "                                                          divergence=0.35, \n",
    "                                                          alpha=alpha,\n",
    "                                                          evaluation=evaluation,\n",
    "                                                          maxNochange=100,\n",
    "                                                          verbose=verbose,\n",
    "                                                          timeout=np.inf)\n",
    "\n",
    "feature_subset = log.iloc[-1]['best_solution']  \n",
    "feature_subset = np.array(feature_subset)\n",
    "\n",
    "elapsed_time = np.round(log.iloc[-1]['time'], 2)\n",
    "accuracy = np.round(100*EvolutionaryWrapperFeatureSelection.evaluate(feature_subset, 'feature_selection', 'test', dataset, 1)[0], 2)\n",
    "\n",
    "print('Test accuracy: %', accuracy)\n",
    "print('Computation time: ', elapsed_time, 'sec')\n",
    "print('Selected features indexes: ', np.where(feature_subset == 1)[0])"
   ]
  },
  {
   "cell_type": "markdown",
   "metadata": {},
   "source": [
    "# GA"
   ]
  },
  {
   "cell_type": "code",
   "execution_count": 5,
   "metadata": {},
   "outputs": [
    {
     "name": "stdout",
     "output_type": "stream",
     "text": [
      "Test accuracy: % 84.529.76 , Gen =  113 \n",
      "Computation time:  33.72 sec\n",
      "Selected features indexes:  [ 1  3  6  7 14 20 21 22 23 24 26 32 35 40 42 43 47 48 55 64 67 70 73 81]\n"
     ]
    }
   ],
   "source": [
    "log, population = EvolutionaryWrapperFeatureSelection.GA(dataset, \n",
    "                                                         populationSize=40, \n",
    "                                                         crossOverP=0.9, \n",
    "                                                         mutationP=0.1,\n",
    "                                                         alpha=alpha,\n",
    "                                                         evaluation=evaluation,\n",
    "                                                         maxNochange=100,\n",
    "                                                         verbose=verbose,\n",
    "                                                         timeout=np.inf)\n",
    "feature_subset = log.iloc[-1]['best_solution']  \n",
    "feature_subset = np.array(feature_subset)\n",
    "\n",
    "elapsed_time = np.round(log.iloc[-1]['time'], 2)\n",
    "accuracy = np.round(100*EvolutionaryWrapperFeatureSelection.evaluate(feature_subset, 'feature_selection', 'test', dataset, 1)[0], 2)\n",
    "\n",
    "print('Test accuracy: %', accuracy)\n",
    "print('Computation time: ', elapsed_time, 'sec')\n",
    "print('Selected features indexes: ', np.where(feature_subset == 1)[0])"
   ]
  },
  {
   "cell_type": "code",
   "execution_count": null,
   "metadata": {},
   "outputs": [],
   "source": []
  },
  {
   "cell_type": "code",
   "execution_count": null,
   "metadata": {},
   "outputs": [],
   "source": []
  },
  {
   "cell_type": "code",
   "execution_count": null,
   "metadata": {
    "scrolled": false
   },
   "outputs": [],
   "source": []
  },
  {
   "cell_type": "code",
   "execution_count": null,
   "metadata": {},
   "outputs": [],
   "source": []
  },
  {
   "cell_type": "code",
   "execution_count": null,
   "metadata": {
    "scrolled": false
   },
   "outputs": [],
   "source": []
  },
  {
   "cell_type": "code",
   "execution_count": null,
   "metadata": {},
   "outputs": [],
   "source": []
  },
  {
   "cell_type": "code",
   "execution_count": null,
   "metadata": {},
   "outputs": [],
   "source": []
  },
  {
   "cell_type": "code",
   "execution_count": null,
   "metadata": {},
   "outputs": [],
   "source": []
  },
  {
   "cell_type": "code",
   "execution_count": null,
   "metadata": {},
   "outputs": [],
   "source": []
  }
 ],
 "metadata": {
  "kernelspec": {
   "display_name": "Python 3",
   "language": "python",
   "name": "python3"
  },
  "language_info": {
   "codemirror_mode": {
    "name": "ipython",
    "version": 3
   },
   "file_extension": ".py",
   "mimetype": "text/x-python",
   "name": "python",
   "nbconvert_exporter": "python",
   "pygments_lexer": "ipython3",
   "version": "3.8.11"
  }
 },
 "nbformat": 4,
 "nbformat_minor": 4
}
